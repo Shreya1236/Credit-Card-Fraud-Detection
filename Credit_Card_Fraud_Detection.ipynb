{
  "nbformat": 4,
  "nbformat_minor": 0,
  "metadata": {
    "colab": {
      "provenance": [],
      "include_colab_link": true
    },
    "kernelspec": {
      "name": "python3",
      "display_name": "Python 3"
    },
    "language_info": {
      "name": "python"
    }
  },
  "cells": [
    {
      "cell_type": "markdown",
      "metadata": {
        "id": "view-in-github",
        "colab_type": "text"
      },
      "source": [
        "<a href=\"https://colab.research.google.com/github/Shreya1236/Credit-Card-Fraud-Detection/blob/main/Credit_Card_Fraud_Detection.ipynb\" target=\"_parent\"><img src=\"https://colab.research.google.com/assets/colab-badge.svg\" alt=\"Open In Colab\"/></a>"
      ]
    },
    {
      "cell_type": "markdown",
      "metadata": {
        "id": "TDnoEQTWStTz"
      },
      "source": [
        "**Importing the Dependencies**"
      ]
    },
    {
      "cell_type": "code",
      "metadata": {
        "id": "hlNfrSC1PGfZ"
      },
      "source": [
        "import numpy as np\n",
        "import pandas as pd\n",
        "from sklearn.model_selection import train_test_split\n",
        "from sklearn.linear_model import LogisticRegression\n",
        "from sklearn.metrics import accuracy_score"
      ],
      "execution_count": null,
      "outputs": []
    },
    {
      "cell_type": "code",
      "metadata": {
        "id": "W0CTsNioTKnJ"
      },
      "source": [
        "# loading the dataset to a Pandas DataFrame\n",
        "credit_card_data = pd.read_csv('/content/creditcard.csv')"
      ],
      "execution_count": null,
      "outputs": []
    },
    {
      "cell_type": "code",
      "metadata": {
        "colab": {
          "base_uri": "https://localhost:8080/",
          "height": 299
        },
        "id": "o_iMfyHsTa6s",
        "outputId": "ad0e406e-7090-4e89-8f4e-5365db0a0f80"
      },
      "source": [
        "# first 5 rows of the dataset\n",
        "credit_card_data.head()"
      ],
      "execution_count": null,
      "outputs": [
        {
          "output_type": "execute_result",
          "data": {
            "text/plain": [
              "   Time        V1        V2        V3        V4        V5        V6        V7  \\\n",
              "0     0 -1.359807 -0.072781  2.536347  1.378155 -0.338321  0.462388  0.239599   \n",
              "1     0  1.191857  0.266151  0.166480  0.448154  0.060018 -0.082361 -0.078803   \n",
              "2     1 -1.358354 -1.340163  1.773209  0.379780 -0.503198  1.800499  0.791461   \n",
              "3     1 -0.966272 -0.185226  1.792993 -0.863291 -0.010309  1.247203  0.237609   \n",
              "4     2 -1.158233  0.877737  1.548718  0.403034 -0.407193  0.095921  0.592941   \n",
              "\n",
              "         V8        V9  ...       V21       V22       V23       V24       V25  \\\n",
              "0  0.098698  0.363787  ... -0.018307  0.277838 -0.110474  0.066928  0.128539   \n",
              "1  0.085102 -0.255425  ... -0.225775 -0.638672  0.101288 -0.339846  0.167170   \n",
              "2  0.247676 -1.514654  ...  0.247998  0.771679  0.909412 -0.689281 -0.327642   \n",
              "3  0.377436 -1.387024  ... -0.108300  0.005274 -0.190321 -1.175575  0.647376   \n",
              "4 -0.270533  0.817739  ... -0.009431  0.798278 -0.137458  0.141267 -0.206010   \n",
              "\n",
              "        V26       V27       V28  Amount  Class  \n",
              "0 -0.189115  0.133558 -0.021053  149.62    0.0  \n",
              "1  0.125895 -0.008983  0.014724    2.69    0.0  \n",
              "2 -0.139097 -0.055353 -0.059752  378.66    0.0  \n",
              "3 -0.221929  0.062723  0.061458  123.50    0.0  \n",
              "4  0.502292  0.219422  0.215153   69.99    0.0  \n",
              "\n",
              "[5 rows x 31 columns]"
            ],
            "text/html": [
              "\n",
              "  <div id=\"df-8384b3cd-350d-491e-9216-c8f0225aa318\">\n",
              "    <div class=\"colab-df-container\">\n",
              "      <div>\n",
              "<style scoped>\n",
              "    .dataframe tbody tr th:only-of-type {\n",
              "        vertical-align: middle;\n",
              "    }\n",
              "\n",
              "    .dataframe tbody tr th {\n",
              "        vertical-align: top;\n",
              "    }\n",
              "\n",
              "    .dataframe thead th {\n",
              "        text-align: right;\n",
              "    }\n",
              "</style>\n",
              "<table border=\"1\" class=\"dataframe\">\n",
              "  <thead>\n",
              "    <tr style=\"text-align: right;\">\n",
              "      <th></th>\n",
              "      <th>Time</th>\n",
              "      <th>V1</th>\n",
              "      <th>V2</th>\n",
              "      <th>V3</th>\n",
              "      <th>V4</th>\n",
              "      <th>V5</th>\n",
              "      <th>V6</th>\n",
              "      <th>V7</th>\n",
              "      <th>V8</th>\n",
              "      <th>V9</th>\n",
              "      <th>...</th>\n",
              "      <th>V21</th>\n",
              "      <th>V22</th>\n",
              "      <th>V23</th>\n",
              "      <th>V24</th>\n",
              "      <th>V25</th>\n",
              "      <th>V26</th>\n",
              "      <th>V27</th>\n",
              "      <th>V28</th>\n",
              "      <th>Amount</th>\n",
              "      <th>Class</th>\n",
              "    </tr>\n",
              "  </thead>\n",
              "  <tbody>\n",
              "    <tr>\n",
              "      <th>0</th>\n",
              "      <td>0</td>\n",
              "      <td>-1.359807</td>\n",
              "      <td>-0.072781</td>\n",
              "      <td>2.536347</td>\n",
              "      <td>1.378155</td>\n",
              "      <td>-0.338321</td>\n",
              "      <td>0.462388</td>\n",
              "      <td>0.239599</td>\n",
              "      <td>0.098698</td>\n",
              "      <td>0.363787</td>\n",
              "      <td>...</td>\n",
              "      <td>-0.018307</td>\n",
              "      <td>0.277838</td>\n",
              "      <td>-0.110474</td>\n",
              "      <td>0.066928</td>\n",
              "      <td>0.128539</td>\n",
              "      <td>-0.189115</td>\n",
              "      <td>0.133558</td>\n",
              "      <td>-0.021053</td>\n",
              "      <td>149.62</td>\n",
              "      <td>0.0</td>\n",
              "    </tr>\n",
              "    <tr>\n",
              "      <th>1</th>\n",
              "      <td>0</td>\n",
              "      <td>1.191857</td>\n",
              "      <td>0.266151</td>\n",
              "      <td>0.166480</td>\n",
              "      <td>0.448154</td>\n",
              "      <td>0.060018</td>\n",
              "      <td>-0.082361</td>\n",
              "      <td>-0.078803</td>\n",
              "      <td>0.085102</td>\n",
              "      <td>-0.255425</td>\n",
              "      <td>...</td>\n",
              "      <td>-0.225775</td>\n",
              "      <td>-0.638672</td>\n",
              "      <td>0.101288</td>\n",
              "      <td>-0.339846</td>\n",
              "      <td>0.167170</td>\n",
              "      <td>0.125895</td>\n",
              "      <td>-0.008983</td>\n",
              "      <td>0.014724</td>\n",
              "      <td>2.69</td>\n",
              "      <td>0.0</td>\n",
              "    </tr>\n",
              "    <tr>\n",
              "      <th>2</th>\n",
              "      <td>1</td>\n",
              "      <td>-1.358354</td>\n",
              "      <td>-1.340163</td>\n",
              "      <td>1.773209</td>\n",
              "      <td>0.379780</td>\n",
              "      <td>-0.503198</td>\n",
              "      <td>1.800499</td>\n",
              "      <td>0.791461</td>\n",
              "      <td>0.247676</td>\n",
              "      <td>-1.514654</td>\n",
              "      <td>...</td>\n",
              "      <td>0.247998</td>\n",
              "      <td>0.771679</td>\n",
              "      <td>0.909412</td>\n",
              "      <td>-0.689281</td>\n",
              "      <td>-0.327642</td>\n",
              "      <td>-0.139097</td>\n",
              "      <td>-0.055353</td>\n",
              "      <td>-0.059752</td>\n",
              "      <td>378.66</td>\n",
              "      <td>0.0</td>\n",
              "    </tr>\n",
              "    <tr>\n",
              "      <th>3</th>\n",
              "      <td>1</td>\n",
              "      <td>-0.966272</td>\n",
              "      <td>-0.185226</td>\n",
              "      <td>1.792993</td>\n",
              "      <td>-0.863291</td>\n",
              "      <td>-0.010309</td>\n",
              "      <td>1.247203</td>\n",
              "      <td>0.237609</td>\n",
              "      <td>0.377436</td>\n",
              "      <td>-1.387024</td>\n",
              "      <td>...</td>\n",
              "      <td>-0.108300</td>\n",
              "      <td>0.005274</td>\n",
              "      <td>-0.190321</td>\n",
              "      <td>-1.175575</td>\n",
              "      <td>0.647376</td>\n",
              "      <td>-0.221929</td>\n",
              "      <td>0.062723</td>\n",
              "      <td>0.061458</td>\n",
              "      <td>123.50</td>\n",
              "      <td>0.0</td>\n",
              "    </tr>\n",
              "    <tr>\n",
              "      <th>4</th>\n",
              "      <td>2</td>\n",
              "      <td>-1.158233</td>\n",
              "      <td>0.877737</td>\n",
              "      <td>1.548718</td>\n",
              "      <td>0.403034</td>\n",
              "      <td>-0.407193</td>\n",
              "      <td>0.095921</td>\n",
              "      <td>0.592941</td>\n",
              "      <td>-0.270533</td>\n",
              "      <td>0.817739</td>\n",
              "      <td>...</td>\n",
              "      <td>-0.009431</td>\n",
              "      <td>0.798278</td>\n",
              "      <td>-0.137458</td>\n",
              "      <td>0.141267</td>\n",
              "      <td>-0.206010</td>\n",
              "      <td>0.502292</td>\n",
              "      <td>0.219422</td>\n",
              "      <td>0.215153</td>\n",
              "      <td>69.99</td>\n",
              "      <td>0.0</td>\n",
              "    </tr>\n",
              "  </tbody>\n",
              "</table>\n",
              "<p>5 rows × 31 columns</p>\n",
              "</div>\n",
              "      <button class=\"colab-df-convert\" onclick=\"convertToInteractive('df-8384b3cd-350d-491e-9216-c8f0225aa318')\"\n",
              "              title=\"Convert this dataframe to an interactive table.\"\n",
              "              style=\"display:none;\">\n",
              "        \n",
              "  <svg xmlns=\"http://www.w3.org/2000/svg\" height=\"24px\"viewBox=\"0 0 24 24\"\n",
              "       width=\"24px\">\n",
              "    <path d=\"M0 0h24v24H0V0z\" fill=\"none\"/>\n",
              "    <path d=\"M18.56 5.44l.94 2.06.94-2.06 2.06-.94-2.06-.94-.94-2.06-.94 2.06-2.06.94zm-11 1L8.5 8.5l.94-2.06 2.06-.94-2.06-.94L8.5 2.5l-.94 2.06-2.06.94zm10 10l.94 2.06.94-2.06 2.06-.94-2.06-.94-.94-2.06-.94 2.06-2.06.94z\"/><path d=\"M17.41 7.96l-1.37-1.37c-.4-.4-.92-.59-1.43-.59-.52 0-1.04.2-1.43.59L10.3 9.45l-7.72 7.72c-.78.78-.78 2.05 0 2.83L4 21.41c.39.39.9.59 1.41.59.51 0 1.02-.2 1.41-.59l7.78-7.78 2.81-2.81c.8-.78.8-2.07 0-2.86zM5.41 20L4 18.59l7.72-7.72 1.47 1.35L5.41 20z\"/>\n",
              "  </svg>\n",
              "      </button>\n",
              "      \n",
              "  <style>\n",
              "    .colab-df-container {\n",
              "      display:flex;\n",
              "      flex-wrap:wrap;\n",
              "      gap: 12px;\n",
              "    }\n",
              "\n",
              "    .colab-df-convert {\n",
              "      background-color: #E8F0FE;\n",
              "      border: none;\n",
              "      border-radius: 50%;\n",
              "      cursor: pointer;\n",
              "      display: none;\n",
              "      fill: #1967D2;\n",
              "      height: 32px;\n",
              "      padding: 0 0 0 0;\n",
              "      width: 32px;\n",
              "    }\n",
              "\n",
              "    .colab-df-convert:hover {\n",
              "      background-color: #E2EBFA;\n",
              "      box-shadow: 0px 1px 2px rgba(60, 64, 67, 0.3), 0px 1px 3px 1px rgba(60, 64, 67, 0.15);\n",
              "      fill: #174EA6;\n",
              "    }\n",
              "\n",
              "    [theme=dark] .colab-df-convert {\n",
              "      background-color: #3B4455;\n",
              "      fill: #D2E3FC;\n",
              "    }\n",
              "\n",
              "    [theme=dark] .colab-df-convert:hover {\n",
              "      background-color: #434B5C;\n",
              "      box-shadow: 0px 1px 3px 1px rgba(0, 0, 0, 0.15);\n",
              "      filter: drop-shadow(0px 1px 2px rgba(0, 0, 0, 0.3));\n",
              "      fill: #FFFFFF;\n",
              "    }\n",
              "  </style>\n",
              "\n",
              "      <script>\n",
              "        const buttonEl =\n",
              "          document.querySelector('#df-8384b3cd-350d-491e-9216-c8f0225aa318 button.colab-df-convert');\n",
              "        buttonEl.style.display =\n",
              "          google.colab.kernel.accessAllowed ? 'block' : 'none';\n",
              "\n",
              "        async function convertToInteractive(key) {\n",
              "          const element = document.querySelector('#df-8384b3cd-350d-491e-9216-c8f0225aa318');\n",
              "          const dataTable =\n",
              "            await google.colab.kernel.invokeFunction('convertToInteractive',\n",
              "                                                     [key], {});\n",
              "          if (!dataTable) return;\n",
              "\n",
              "          const docLinkHtml = 'Like what you see? Visit the ' +\n",
              "            '<a target=\"_blank\" href=https://colab.research.google.com/notebooks/data_table.ipynb>data table notebook</a>'\n",
              "            + ' to learn more about interactive tables.';\n",
              "          element.innerHTML = '';\n",
              "          dataTable['output_type'] = 'display_data';\n",
              "          await google.colab.output.renderOutput(dataTable, element);\n",
              "          const docLink = document.createElement('div');\n",
              "          docLink.innerHTML = docLinkHtml;\n",
              "          element.appendChild(docLink);\n",
              "        }\n",
              "      </script>\n",
              "    </div>\n",
              "  </div>\n",
              "  "
            ]
          },
          "metadata": {},
          "execution_count": 3
        }
      ]
    },
    {
      "cell_type": "code",
      "metadata": {
        "colab": {
          "base_uri": "https://localhost:8080/",
          "height": 299
        },
        "id": "iWCP6YJjThIM",
        "outputId": "016985be-f9bf-4dfa-c8ba-b8ad9610e81b"
      },
      "source": [
        "credit_card_data.tail()"
      ],
      "execution_count": null,
      "outputs": [
        {
          "output_type": "execute_result",
          "data": {
            "text/plain": [
              "        Time        V1        V2        V3        V4        V5        V6  \\\n",
              "11954  20631  1.504204 -0.411728  0.200090 -0.778753 -0.442232 -0.119677   \n",
              "11955  20636  1.134994  0.096340  0.277921  0.319692  0.742800  1.611803   \n",
              "11956  20638 -6.305012  3.944886 -4.707362  1.539602 -3.934785 -1.730565   \n",
              "11957  20638  1.161960 -0.398297  1.123732 -0.474237 -1.226667 -0.519325   \n",
              "11958  20642  1.291096 -0.226628  0.708386 -0.719236 -0.659099 -0.273757   \n",
              "\n",
              "             V7        V8        V9  ...       V21       V22       V23  \\\n",
              "11954 -0.782660 -0.165178  0.691819  ... -0.136231 -0.217274 -0.143260   \n",
              "11955 -0.458649  0.390012  1.424541  ... -0.395605 -0.743542  0.222256   \n",
              "11956 -2.104936  3.843447  0.863458  ...  0.073140 -0.039935 -0.108896   \n",
              "11957 -0.804179  0.070134  3.262926  ... -0.121191  0.097255  0.050903   \n",
              "11958 -0.612042 -0.111488  3.032258  ...       NaN       NaN       NaN   \n",
              "\n",
              "            V24       V25       V26       V27       V28  Amount  Class  \n",
              "11954 -1.057332  0.529188 -0.235062 -0.012089  0.000905    9.00    0.0  \n",
              "11955 -1.859104 -0.109777  0.279049  0.012398 -0.009090    0.99    0.0  \n",
              "11956  0.691434 -0.261979 -0.447540  0.212900 -0.031021   89.99    0.0  \n",
              "11957  0.330479  0.315692 -0.712765  0.073836  0.028055   11.85    0.0  \n",
              "11958       NaN       NaN       NaN       NaN       NaN     NaN    NaN  \n",
              "\n",
              "[5 rows x 31 columns]"
            ],
            "text/html": [
              "\n",
              "  <div id=\"df-256080b3-a656-4c96-b719-90b3a702d7ff\">\n",
              "    <div class=\"colab-df-container\">\n",
              "      <div>\n",
              "<style scoped>\n",
              "    .dataframe tbody tr th:only-of-type {\n",
              "        vertical-align: middle;\n",
              "    }\n",
              "\n",
              "    .dataframe tbody tr th {\n",
              "        vertical-align: top;\n",
              "    }\n",
              "\n",
              "    .dataframe thead th {\n",
              "        text-align: right;\n",
              "    }\n",
              "</style>\n",
              "<table border=\"1\" class=\"dataframe\">\n",
              "  <thead>\n",
              "    <tr style=\"text-align: right;\">\n",
              "      <th></th>\n",
              "      <th>Time</th>\n",
              "      <th>V1</th>\n",
              "      <th>V2</th>\n",
              "      <th>V3</th>\n",
              "      <th>V4</th>\n",
              "      <th>V5</th>\n",
              "      <th>V6</th>\n",
              "      <th>V7</th>\n",
              "      <th>V8</th>\n",
              "      <th>V9</th>\n",
              "      <th>...</th>\n",
              "      <th>V21</th>\n",
              "      <th>V22</th>\n",
              "      <th>V23</th>\n",
              "      <th>V24</th>\n",
              "      <th>V25</th>\n",
              "      <th>V26</th>\n",
              "      <th>V27</th>\n",
              "      <th>V28</th>\n",
              "      <th>Amount</th>\n",
              "      <th>Class</th>\n",
              "    </tr>\n",
              "  </thead>\n",
              "  <tbody>\n",
              "    <tr>\n",
              "      <th>11954</th>\n",
              "      <td>20631</td>\n",
              "      <td>1.504204</td>\n",
              "      <td>-0.411728</td>\n",
              "      <td>0.200090</td>\n",
              "      <td>-0.778753</td>\n",
              "      <td>-0.442232</td>\n",
              "      <td>-0.119677</td>\n",
              "      <td>-0.782660</td>\n",
              "      <td>-0.165178</td>\n",
              "      <td>0.691819</td>\n",
              "      <td>...</td>\n",
              "      <td>-0.136231</td>\n",
              "      <td>-0.217274</td>\n",
              "      <td>-0.143260</td>\n",
              "      <td>-1.057332</td>\n",
              "      <td>0.529188</td>\n",
              "      <td>-0.235062</td>\n",
              "      <td>-0.012089</td>\n",
              "      <td>0.000905</td>\n",
              "      <td>9.00</td>\n",
              "      <td>0.0</td>\n",
              "    </tr>\n",
              "    <tr>\n",
              "      <th>11955</th>\n",
              "      <td>20636</td>\n",
              "      <td>1.134994</td>\n",
              "      <td>0.096340</td>\n",
              "      <td>0.277921</td>\n",
              "      <td>0.319692</td>\n",
              "      <td>0.742800</td>\n",
              "      <td>1.611803</td>\n",
              "      <td>-0.458649</td>\n",
              "      <td>0.390012</td>\n",
              "      <td>1.424541</td>\n",
              "      <td>...</td>\n",
              "      <td>-0.395605</td>\n",
              "      <td>-0.743542</td>\n",
              "      <td>0.222256</td>\n",
              "      <td>-1.859104</td>\n",
              "      <td>-0.109777</td>\n",
              "      <td>0.279049</td>\n",
              "      <td>0.012398</td>\n",
              "      <td>-0.009090</td>\n",
              "      <td>0.99</td>\n",
              "      <td>0.0</td>\n",
              "    </tr>\n",
              "    <tr>\n",
              "      <th>11956</th>\n",
              "      <td>20638</td>\n",
              "      <td>-6.305012</td>\n",
              "      <td>3.944886</td>\n",
              "      <td>-4.707362</td>\n",
              "      <td>1.539602</td>\n",
              "      <td>-3.934785</td>\n",
              "      <td>-1.730565</td>\n",
              "      <td>-2.104936</td>\n",
              "      <td>3.843447</td>\n",
              "      <td>0.863458</td>\n",
              "      <td>...</td>\n",
              "      <td>0.073140</td>\n",
              "      <td>-0.039935</td>\n",
              "      <td>-0.108896</td>\n",
              "      <td>0.691434</td>\n",
              "      <td>-0.261979</td>\n",
              "      <td>-0.447540</td>\n",
              "      <td>0.212900</td>\n",
              "      <td>-0.031021</td>\n",
              "      <td>89.99</td>\n",
              "      <td>0.0</td>\n",
              "    </tr>\n",
              "    <tr>\n",
              "      <th>11957</th>\n",
              "      <td>20638</td>\n",
              "      <td>1.161960</td>\n",
              "      <td>-0.398297</td>\n",
              "      <td>1.123732</td>\n",
              "      <td>-0.474237</td>\n",
              "      <td>-1.226667</td>\n",
              "      <td>-0.519325</td>\n",
              "      <td>-0.804179</td>\n",
              "      <td>0.070134</td>\n",
              "      <td>3.262926</td>\n",
              "      <td>...</td>\n",
              "      <td>-0.121191</td>\n",
              "      <td>0.097255</td>\n",
              "      <td>0.050903</td>\n",
              "      <td>0.330479</td>\n",
              "      <td>0.315692</td>\n",
              "      <td>-0.712765</td>\n",
              "      <td>0.073836</td>\n",
              "      <td>0.028055</td>\n",
              "      <td>11.85</td>\n",
              "      <td>0.0</td>\n",
              "    </tr>\n",
              "    <tr>\n",
              "      <th>11958</th>\n",
              "      <td>20642</td>\n",
              "      <td>1.291096</td>\n",
              "      <td>-0.226628</td>\n",
              "      <td>0.708386</td>\n",
              "      <td>-0.719236</td>\n",
              "      <td>-0.659099</td>\n",
              "      <td>-0.273757</td>\n",
              "      <td>-0.612042</td>\n",
              "      <td>-0.111488</td>\n",
              "      <td>3.032258</td>\n",
              "      <td>...</td>\n",
              "      <td>NaN</td>\n",
              "      <td>NaN</td>\n",
              "      <td>NaN</td>\n",
              "      <td>NaN</td>\n",
              "      <td>NaN</td>\n",
              "      <td>NaN</td>\n",
              "      <td>NaN</td>\n",
              "      <td>NaN</td>\n",
              "      <td>NaN</td>\n",
              "      <td>NaN</td>\n",
              "    </tr>\n",
              "  </tbody>\n",
              "</table>\n",
              "<p>5 rows × 31 columns</p>\n",
              "</div>\n",
              "      <button class=\"colab-df-convert\" onclick=\"convertToInteractive('df-256080b3-a656-4c96-b719-90b3a702d7ff')\"\n",
              "              title=\"Convert this dataframe to an interactive table.\"\n",
              "              style=\"display:none;\">\n",
              "        \n",
              "  <svg xmlns=\"http://www.w3.org/2000/svg\" height=\"24px\"viewBox=\"0 0 24 24\"\n",
              "       width=\"24px\">\n",
              "    <path d=\"M0 0h24v24H0V0z\" fill=\"none\"/>\n",
              "    <path d=\"M18.56 5.44l.94 2.06.94-2.06 2.06-.94-2.06-.94-.94-2.06-.94 2.06-2.06.94zm-11 1L8.5 8.5l.94-2.06 2.06-.94-2.06-.94L8.5 2.5l-.94 2.06-2.06.94zm10 10l.94 2.06.94-2.06 2.06-.94-2.06-.94-.94-2.06-.94 2.06-2.06.94z\"/><path d=\"M17.41 7.96l-1.37-1.37c-.4-.4-.92-.59-1.43-.59-.52 0-1.04.2-1.43.59L10.3 9.45l-7.72 7.72c-.78.78-.78 2.05 0 2.83L4 21.41c.39.39.9.59 1.41.59.51 0 1.02-.2 1.41-.59l7.78-7.78 2.81-2.81c.8-.78.8-2.07 0-2.86zM5.41 20L4 18.59l7.72-7.72 1.47 1.35L5.41 20z\"/>\n",
              "  </svg>\n",
              "      </button>\n",
              "      \n",
              "  <style>\n",
              "    .colab-df-container {\n",
              "      display:flex;\n",
              "      flex-wrap:wrap;\n",
              "      gap: 12px;\n",
              "    }\n",
              "\n",
              "    .colab-df-convert {\n",
              "      background-color: #E8F0FE;\n",
              "      border: none;\n",
              "      border-radius: 50%;\n",
              "      cursor: pointer;\n",
              "      display: none;\n",
              "      fill: #1967D2;\n",
              "      height: 32px;\n",
              "      padding: 0 0 0 0;\n",
              "      width: 32px;\n",
              "    }\n",
              "\n",
              "    .colab-df-convert:hover {\n",
              "      background-color: #E2EBFA;\n",
              "      box-shadow: 0px 1px 2px rgba(60, 64, 67, 0.3), 0px 1px 3px 1px rgba(60, 64, 67, 0.15);\n",
              "      fill: #174EA6;\n",
              "    }\n",
              "\n",
              "    [theme=dark] .colab-df-convert {\n",
              "      background-color: #3B4455;\n",
              "      fill: #D2E3FC;\n",
              "    }\n",
              "\n",
              "    [theme=dark] .colab-df-convert:hover {\n",
              "      background-color: #434B5C;\n",
              "      box-shadow: 0px 1px 3px 1px rgba(0, 0, 0, 0.15);\n",
              "      filter: drop-shadow(0px 1px 2px rgba(0, 0, 0, 0.3));\n",
              "      fill: #FFFFFF;\n",
              "    }\n",
              "  </style>\n",
              "\n",
              "      <script>\n",
              "        const buttonEl =\n",
              "          document.querySelector('#df-256080b3-a656-4c96-b719-90b3a702d7ff button.colab-df-convert');\n",
              "        buttonEl.style.display =\n",
              "          google.colab.kernel.accessAllowed ? 'block' : 'none';\n",
              "\n",
              "        async function convertToInteractive(key) {\n",
              "          const element = document.querySelector('#df-256080b3-a656-4c96-b719-90b3a702d7ff');\n",
              "          const dataTable =\n",
              "            await google.colab.kernel.invokeFunction('convertToInteractive',\n",
              "                                                     [key], {});\n",
              "          if (!dataTable) return;\n",
              "\n",
              "          const docLinkHtml = 'Like what you see? Visit the ' +\n",
              "            '<a target=\"_blank\" href=https://colab.research.google.com/notebooks/data_table.ipynb>data table notebook</a>'\n",
              "            + ' to learn more about interactive tables.';\n",
              "          element.innerHTML = '';\n",
              "          dataTable['output_type'] = 'display_data';\n",
              "          await google.colab.output.renderOutput(dataTable, element);\n",
              "          const docLink = document.createElement('div');\n",
              "          docLink.innerHTML = docLinkHtml;\n",
              "          element.appendChild(docLink);\n",
              "        }\n",
              "      </script>\n",
              "    </div>\n",
              "  </div>\n",
              "  "
            ]
          },
          "metadata": {},
          "execution_count": 4
        }
      ]
    },
    {
      "cell_type": "markdown",
      "source": [
        "**Dataset Informations**"
      ],
      "metadata": {
        "id": "G_E2MS_BR7gE"
      }
    },
    {
      "cell_type": "code",
      "metadata": {
        "colab": {
          "base_uri": "https://localhost:8080/"
        },
        "id": "KcCZquvEUD3A",
        "outputId": "23050c08-77c1-4f15-8e88-0912ea20c162"
      },
      "source": [
        "credit_card_data.info()"
      ],
      "execution_count": null,
      "outputs": [
        {
          "output_type": "stream",
          "name": "stdout",
          "text": [
            "<class 'pandas.core.frame.DataFrame'>\n",
            "RangeIndex: 11959 entries, 0 to 11958\n",
            "Data columns (total 31 columns):\n",
            " #   Column  Non-Null Count  Dtype  \n",
            "---  ------  --------------  -----  \n",
            " 0   Time    11959 non-null  int64  \n",
            " 1   V1      11959 non-null  float64\n",
            " 2   V2      11959 non-null  float64\n",
            " 3   V3      11959 non-null  float64\n",
            " 4   V4      11959 non-null  float64\n",
            " 5   V5      11959 non-null  float64\n",
            " 6   V6      11959 non-null  float64\n",
            " 7   V7      11959 non-null  float64\n",
            " 8   V8      11959 non-null  float64\n",
            " 9   V9      11959 non-null  float64\n",
            " 10  V10     11959 non-null  float64\n",
            " 11  V11     11959 non-null  float64\n",
            " 12  V12     11959 non-null  float64\n",
            " 13  V13     11959 non-null  float64\n",
            " 14  V14     11959 non-null  float64\n",
            " 15  V15     11959 non-null  float64\n",
            " 16  V16     11959 non-null  float64\n",
            " 17  V17     11959 non-null  float64\n",
            " 18  V18     11959 non-null  float64\n",
            " 19  V19     11959 non-null  float64\n",
            " 20  V20     11958 non-null  float64\n",
            " 21  V21     11958 non-null  float64\n",
            " 22  V22     11958 non-null  float64\n",
            " 23  V23     11958 non-null  float64\n",
            " 24  V24     11958 non-null  float64\n",
            " 25  V25     11958 non-null  float64\n",
            " 26  V26     11958 non-null  float64\n",
            " 27  V27     11958 non-null  float64\n",
            " 28  V28     11958 non-null  float64\n",
            " 29  Amount  11958 non-null  float64\n",
            " 30  Class   11958 non-null  float64\n",
            "dtypes: float64(30), int64(1)\n",
            "memory usage: 2.8 MB\n"
          ]
        }
      ]
    },
    {
      "cell_type": "code",
      "metadata": {
        "colab": {
          "base_uri": "https://localhost:8080/"
        },
        "id": "XxwasmfKUQiA",
        "outputId": "6cc0ccc9-e1a3-40c7-a516-0843a179f3f8"
      },
      "source": [
        "# checking the number of missing values in each column\n",
        "credit_card_data.isnull().sum()"
      ],
      "execution_count": null,
      "outputs": [
        {
          "output_type": "execute_result",
          "data": {
            "text/plain": [
              "Time      0\n",
              "V1        0\n",
              "V2        0\n",
              "V3        0\n",
              "V4        0\n",
              "V5        0\n",
              "V6        0\n",
              "V7        0\n",
              "V8        0\n",
              "V9        0\n",
              "V10       0\n",
              "V11       0\n",
              "V12       0\n",
              "V13       0\n",
              "V14       0\n",
              "V15       0\n",
              "V16       0\n",
              "V17       0\n",
              "V18       0\n",
              "V19       0\n",
              "V20       1\n",
              "V21       1\n",
              "V22       1\n",
              "V23       1\n",
              "V24       1\n",
              "V25       1\n",
              "V26       1\n",
              "V27       1\n",
              "V28       1\n",
              "Amount    1\n",
              "Class     1\n",
              "dtype: int64"
            ]
          },
          "metadata": {},
          "execution_count": 6
        }
      ]
    },
    {
      "cell_type": "code",
      "source": [
        "dup = credit_card_data[credit_card_data.duplicated()]\n",
        "print(\"Number of duplicated records total:\", len(dup))\n",
        "print(\"Number of duplicated records in Fraud cases:\", len(dup[dup[\"Class\"]==1]))\n",
        "print(\"Number of duplicated records in No Fraud cases:\", len(dup[dup[\"Class\"]==0]))\n"
      ],
      "metadata": {
        "id": "JfkCTp-0SXM-",
        "colab": {
          "base_uri": "https://localhost:8080/"
        },
        "outputId": "bc1a5b4c-fa6b-4d87-af21-2d320d1aa491"
      },
      "execution_count": null,
      "outputs": [
        {
          "output_type": "stream",
          "name": "stdout",
          "text": [
            "Number of duplicated records total: 44\n",
            "Number of duplicated records in Fraud cases: 0\n",
            "Number of duplicated records in No Fraud cases: 44\n"
          ]
        }
      ]
    },
    {
      "cell_type": "code",
      "source": [
        "total = len(credit_card_data)\n",
        "credit_card_data.drop_duplicates(inplace=True)\n",
        "print(total - len(credit_card_data), \" duplicated records removed\")\n",
        "print(\"Total records left:\", len(credit_card_data))"
      ],
      "metadata": {
        "id": "8dYiiFiOSXDb",
        "colab": {
          "base_uri": "https://localhost:8080/"
        },
        "outputId": "a208f40a-495b-4714-fdc4-6fd34072a3a0"
      },
      "execution_count": null,
      "outputs": [
        {
          "output_type": "stream",
          "name": "stdout",
          "text": [
            "44  duplicated records removed\n",
            "Total records left: 11915\n"
          ]
        }
      ]
    },
    {
      "cell_type": "code",
      "metadata": {
        "colab": {
          "base_uri": "https://localhost:8080/"
        },
        "id": "EIpoKfp5Ugri",
        "outputId": "331635a4-b25c-42b6-a519-5ada11afe36f"
      },
      "source": [
        "# distribution of legit transactions & fraudulent transactions\n",
        "credit_card_data['Class'].value_counts()"
      ],
      "execution_count": null,
      "outputs": [
        {
          "output_type": "execute_result",
          "data": {
            "text/plain": [
              "0.0    11862\n",
              "1.0       52\n",
              "Name: Class, dtype: int64"
            ]
          },
          "metadata": {},
          "execution_count": 9
        }
      ]
    },
    {
      "cell_type": "markdown",
      "metadata": {
        "id": "flz_InK7VGri"
      },
      "source": [
        "This Dataset is highly unblanced"
      ]
    },
    {
      "cell_type": "markdown",
      "metadata": {
        "id": "4OlMhkHzVKMv"
      },
      "source": [
        "0 --> Normal Transaction\n",
        "\n",
        "1 --> fraudulent transaction"
      ]
    },
    {
      "cell_type": "code",
      "metadata": {
        "id": "QNn77bdbU2Lf"
      },
      "source": [
        "# separating the data for analysis\n",
        "legit = credit_card_data[credit_card_data.Class == 0]\n",
        "fraud = credit_card_data[credit_card_data.Class == 1]"
      ],
      "execution_count": null,
      "outputs": []
    },
    {
      "cell_type": "code",
      "metadata": {
        "colab": {
          "base_uri": "https://localhost:8080/"
        },
        "id": "zsrMgOdoVnrV",
        "outputId": "2ab5cd7c-05ec-4fa9-91a7-14e7ffe0c04c"
      },
      "source": [
        "print(legit.shape)\n",
        "print(fraud.shape)"
      ],
      "execution_count": null,
      "outputs": [
        {
          "output_type": "stream",
          "name": "stdout",
          "text": [
            "(11862, 31)\n",
            "(52, 31)\n"
          ]
        }
      ]
    },
    {
      "cell_type": "code",
      "metadata": {
        "colab": {
          "base_uri": "https://localhost:8080/"
        },
        "id": "1s3KGshBVsTb",
        "outputId": "cdd18af2-8ecc-46a5-ea56-438a82b2edd2"
      },
      "source": [
        "# statistical measures of the data\n",
        "legit.Amount.describe()"
      ],
      "execution_count": null,
      "outputs": [
        {
          "output_type": "execute_result",
          "data": {
            "text/plain": [
              "count    11862.000000\n",
              "mean        62.358021\n",
              "std        177.676983\n",
              "min          0.000000\n",
              "25%          5.300000\n",
              "50%         15.950000\n",
              "75%         50.000000\n",
              "max       7712.430000\n",
              "Name: Amount, dtype: float64"
            ]
          },
          "metadata": {},
          "execution_count": 12
        }
      ]
    },
    {
      "cell_type": "code",
      "metadata": {
        "colab": {
          "base_uri": "https://localhost:8080/"
        },
        "id": "KkU3Mzr5V7fR",
        "outputId": "20d869a5-e271-480c-cdaf-c85bc83394af"
      },
      "source": [
        "fraud.Amount.describe()"
      ],
      "execution_count": null,
      "outputs": [
        {
          "output_type": "execute_result",
          "data": {
            "text/plain": [
              "count      52.000000\n",
              "mean       97.724808\n",
              "std       321.188775\n",
              "min         0.000000\n",
              "25%         1.000000\n",
              "50%         1.000000\n",
              "75%         1.772500\n",
              "max      1809.680000\n",
              "Name: Amount, dtype: float64"
            ]
          },
          "metadata": {},
          "execution_count": 13
        }
      ]
    },
    {
      "cell_type": "code",
      "metadata": {
        "colab": {
          "base_uri": "https://localhost:8080/",
          "height": 237
        },
        "id": "aFUMMHwYWMvp",
        "outputId": "132a1b6c-1ea0-4f2d-8223-e8678fbcba0d"
      },
      "source": [
        "# compare the values for both transactions\n",
        "credit_card_data.groupby('Class').mean()"
      ],
      "execution_count": null,
      "outputs": [
        {
          "output_type": "execute_result",
          "data": {
            "text/plain": [
              "               Time        V1        V2        V3        V4        V5  \\\n",
              "Class                                                                   \n",
              "0.0     8008.439639 -0.196443  0.256189  0.930368  0.254063 -0.076495   \n",
              "1.0    11569.615385 -3.769104  4.258027 -8.202329  6.396396 -2.342431   \n",
              "\n",
              "             V6        V7        V8        V9  ...       V20       V21  \\\n",
              "Class                                          ...                       \n",
              "0.0    0.146553 -0.096044 -0.051425  0.927013  ...  0.021607 -0.065996   \n",
              "1.0   -1.990562 -5.740207  0.950650 -2.729769  ...  0.411236  0.305259   \n",
              "\n",
              "            V22       V23       V24       V25       V26       V27       V28  \\\n",
              "Class                                                                         \n",
              "0.0   -0.152888 -0.032803  0.020292  0.105959  0.062773  0.006861  0.000107   \n",
              "1.0   -0.021762 -0.340563 -0.406311 -0.139505  0.306967  0.692927  0.059751   \n",
              "\n",
              "          Amount  \n",
              "Class             \n",
              "0.0    62.358021  \n",
              "1.0    97.724808  \n",
              "\n",
              "[2 rows x 30 columns]"
            ],
            "text/html": [
              "\n",
              "  <div id=\"df-97920234-cb73-40e7-b6d3-7b7c6b229f7c\">\n",
              "    <div class=\"colab-df-container\">\n",
              "      <div>\n",
              "<style scoped>\n",
              "    .dataframe tbody tr th:only-of-type {\n",
              "        vertical-align: middle;\n",
              "    }\n",
              "\n",
              "    .dataframe tbody tr th {\n",
              "        vertical-align: top;\n",
              "    }\n",
              "\n",
              "    .dataframe thead th {\n",
              "        text-align: right;\n",
              "    }\n",
              "</style>\n",
              "<table border=\"1\" class=\"dataframe\">\n",
              "  <thead>\n",
              "    <tr style=\"text-align: right;\">\n",
              "      <th></th>\n",
              "      <th>Time</th>\n",
              "      <th>V1</th>\n",
              "      <th>V2</th>\n",
              "      <th>V3</th>\n",
              "      <th>V4</th>\n",
              "      <th>V5</th>\n",
              "      <th>V6</th>\n",
              "      <th>V7</th>\n",
              "      <th>V8</th>\n",
              "      <th>V9</th>\n",
              "      <th>...</th>\n",
              "      <th>V20</th>\n",
              "      <th>V21</th>\n",
              "      <th>V22</th>\n",
              "      <th>V23</th>\n",
              "      <th>V24</th>\n",
              "      <th>V25</th>\n",
              "      <th>V26</th>\n",
              "      <th>V27</th>\n",
              "      <th>V28</th>\n",
              "      <th>Amount</th>\n",
              "    </tr>\n",
              "    <tr>\n",
              "      <th>Class</th>\n",
              "      <th></th>\n",
              "      <th></th>\n",
              "      <th></th>\n",
              "      <th></th>\n",
              "      <th></th>\n",
              "      <th></th>\n",
              "      <th></th>\n",
              "      <th></th>\n",
              "      <th></th>\n",
              "      <th></th>\n",
              "      <th></th>\n",
              "      <th></th>\n",
              "      <th></th>\n",
              "      <th></th>\n",
              "      <th></th>\n",
              "      <th></th>\n",
              "      <th></th>\n",
              "      <th></th>\n",
              "      <th></th>\n",
              "      <th></th>\n",
              "      <th></th>\n",
              "    </tr>\n",
              "  </thead>\n",
              "  <tbody>\n",
              "    <tr>\n",
              "      <th>0.0</th>\n",
              "      <td>8008.439639</td>\n",
              "      <td>-0.196443</td>\n",
              "      <td>0.256189</td>\n",
              "      <td>0.930368</td>\n",
              "      <td>0.254063</td>\n",
              "      <td>-0.076495</td>\n",
              "      <td>0.146553</td>\n",
              "      <td>-0.096044</td>\n",
              "      <td>-0.051425</td>\n",
              "      <td>0.927013</td>\n",
              "      <td>...</td>\n",
              "      <td>0.021607</td>\n",
              "      <td>-0.065996</td>\n",
              "      <td>-0.152888</td>\n",
              "      <td>-0.032803</td>\n",
              "      <td>0.020292</td>\n",
              "      <td>0.105959</td>\n",
              "      <td>0.062773</td>\n",
              "      <td>0.006861</td>\n",
              "      <td>0.000107</td>\n",
              "      <td>62.358021</td>\n",
              "    </tr>\n",
              "    <tr>\n",
              "      <th>1.0</th>\n",
              "      <td>11569.615385</td>\n",
              "      <td>-3.769104</td>\n",
              "      <td>4.258027</td>\n",
              "      <td>-8.202329</td>\n",
              "      <td>6.396396</td>\n",
              "      <td>-2.342431</td>\n",
              "      <td>-1.990562</td>\n",
              "      <td>-5.740207</td>\n",
              "      <td>0.950650</td>\n",
              "      <td>-2.729769</td>\n",
              "      <td>...</td>\n",
              "      <td>0.411236</td>\n",
              "      <td>0.305259</td>\n",
              "      <td>-0.021762</td>\n",
              "      <td>-0.340563</td>\n",
              "      <td>-0.406311</td>\n",
              "      <td>-0.139505</td>\n",
              "      <td>0.306967</td>\n",
              "      <td>0.692927</td>\n",
              "      <td>0.059751</td>\n",
              "      <td>97.724808</td>\n",
              "    </tr>\n",
              "  </tbody>\n",
              "</table>\n",
              "<p>2 rows × 30 columns</p>\n",
              "</div>\n",
              "      <button class=\"colab-df-convert\" onclick=\"convertToInteractive('df-97920234-cb73-40e7-b6d3-7b7c6b229f7c')\"\n",
              "              title=\"Convert this dataframe to an interactive table.\"\n",
              "              style=\"display:none;\">\n",
              "        \n",
              "  <svg xmlns=\"http://www.w3.org/2000/svg\" height=\"24px\"viewBox=\"0 0 24 24\"\n",
              "       width=\"24px\">\n",
              "    <path d=\"M0 0h24v24H0V0z\" fill=\"none\"/>\n",
              "    <path d=\"M18.56 5.44l.94 2.06.94-2.06 2.06-.94-2.06-.94-.94-2.06-.94 2.06-2.06.94zm-11 1L8.5 8.5l.94-2.06 2.06-.94-2.06-.94L8.5 2.5l-.94 2.06-2.06.94zm10 10l.94 2.06.94-2.06 2.06-.94-2.06-.94-.94-2.06-.94 2.06-2.06.94z\"/><path d=\"M17.41 7.96l-1.37-1.37c-.4-.4-.92-.59-1.43-.59-.52 0-1.04.2-1.43.59L10.3 9.45l-7.72 7.72c-.78.78-.78 2.05 0 2.83L4 21.41c.39.39.9.59 1.41.59.51 0 1.02-.2 1.41-.59l7.78-7.78 2.81-2.81c.8-.78.8-2.07 0-2.86zM5.41 20L4 18.59l7.72-7.72 1.47 1.35L5.41 20z\"/>\n",
              "  </svg>\n",
              "      </button>\n",
              "      \n",
              "  <style>\n",
              "    .colab-df-container {\n",
              "      display:flex;\n",
              "      flex-wrap:wrap;\n",
              "      gap: 12px;\n",
              "    }\n",
              "\n",
              "    .colab-df-convert {\n",
              "      background-color: #E8F0FE;\n",
              "      border: none;\n",
              "      border-radius: 50%;\n",
              "      cursor: pointer;\n",
              "      display: none;\n",
              "      fill: #1967D2;\n",
              "      height: 32px;\n",
              "      padding: 0 0 0 0;\n",
              "      width: 32px;\n",
              "    }\n",
              "\n",
              "    .colab-df-convert:hover {\n",
              "      background-color: #E2EBFA;\n",
              "      box-shadow: 0px 1px 2px rgba(60, 64, 67, 0.3), 0px 1px 3px 1px rgba(60, 64, 67, 0.15);\n",
              "      fill: #174EA6;\n",
              "    }\n",
              "\n",
              "    [theme=dark] .colab-df-convert {\n",
              "      background-color: #3B4455;\n",
              "      fill: #D2E3FC;\n",
              "    }\n",
              "\n",
              "    [theme=dark] .colab-df-convert:hover {\n",
              "      background-color: #434B5C;\n",
              "      box-shadow: 0px 1px 3px 1px rgba(0, 0, 0, 0.15);\n",
              "      filter: drop-shadow(0px 1px 2px rgba(0, 0, 0, 0.3));\n",
              "      fill: #FFFFFF;\n",
              "    }\n",
              "  </style>\n",
              "\n",
              "      <script>\n",
              "        const buttonEl =\n",
              "          document.querySelector('#df-97920234-cb73-40e7-b6d3-7b7c6b229f7c button.colab-df-convert');\n",
              "        buttonEl.style.display =\n",
              "          google.colab.kernel.accessAllowed ? 'block' : 'none';\n",
              "\n",
              "        async function convertToInteractive(key) {\n",
              "          const element = document.querySelector('#df-97920234-cb73-40e7-b6d3-7b7c6b229f7c');\n",
              "          const dataTable =\n",
              "            await google.colab.kernel.invokeFunction('convertToInteractive',\n",
              "                                                     [key], {});\n",
              "          if (!dataTable) return;\n",
              "\n",
              "          const docLinkHtml = 'Like what you see? Visit the ' +\n",
              "            '<a target=\"_blank\" href=https://colab.research.google.com/notebooks/data_table.ipynb>data table notebook</a>'\n",
              "            + ' to learn more about interactive tables.';\n",
              "          element.innerHTML = '';\n",
              "          dataTable['output_type'] = 'display_data';\n",
              "          await google.colab.output.renderOutput(dataTable, element);\n",
              "          const docLink = document.createElement('div');\n",
              "          docLink.innerHTML = docLinkHtml;\n",
              "          element.appendChild(docLink);\n",
              "        }\n",
              "      </script>\n",
              "    </div>\n",
              "  </div>\n",
              "  "
            ]
          },
          "metadata": {},
          "execution_count": 14
        }
      ]
    },
    {
      "cell_type": "markdown",
      "metadata": {
        "id": "ybHNYPpEW0N6"
      },
      "source": [
        "Under-Sampling"
      ]
    },
    {
      "cell_type": "markdown",
      "metadata": {
        "id": "MlXkIGEIW3KM"
      },
      "source": [
        "Build a sample dataset containing similar distribution of normal transactions and Fraudulent Transactions"
      ]
    },
    {
      "cell_type": "markdown",
      "metadata": {
        "id": "bCj3Dee7XB0F"
      },
      "source": [
        "Number of Fraudulent Transactions --> 492"
      ]
    },
    {
      "cell_type": "code",
      "metadata": {
        "id": "QtWT13mKWjJ_"
      },
      "source": [
        "legit_sample = legit.sample(n=492)"
      ],
      "execution_count": null,
      "outputs": []
    },
    {
      "cell_type": "markdown",
      "metadata": {
        "id": "SNiYI_SmXeim"
      },
      "source": [
        "Concatenating two DataFrames"
      ]
    },
    {
      "cell_type": "code",
      "metadata": {
        "id": "0yiXrYiRXcnE"
      },
      "source": [
        "new_dataset = pd.concat([legit_sample, fraud], axis=0)"
      ],
      "execution_count": null,
      "outputs": []
    },
    {
      "cell_type": "code",
      "metadata": {
        "colab": {
          "base_uri": "https://localhost:8080/",
          "height": 299
        },
        "id": "UuLw43AXX0bq",
        "outputId": "15498c45-eb56-490c-f190-a52262ca7da2"
      },
      "source": [
        "new_dataset.head()"
      ],
      "execution_count": null,
      "outputs": [
        {
          "output_type": "execute_result",
          "data": {
            "text/plain": [
              "        Time        V1        V2        V3        V4        V5        V6  \\\n",
              "3011    2561  1.355336 -0.731159  0.667897 -0.929903 -1.004661  0.085218   \n",
              "6124    7023 -1.193636  1.063804  1.615202  0.209933  0.054365 -0.610597   \n",
              "5045    4657  1.170605  0.244659 -0.483872  1.556334  2.146021  3.965380   \n",
              "10972  18871  1.282442  0.307640  0.432982  0.716393 -0.190866 -0.663166   \n",
              "3209    2789 -0.415426  0.673509  1.210091 -2.102860  0.137877 -1.294730   \n",
              "\n",
              "             V7        V8        V9  ...       V21       V22       V23  \\\n",
              "3011  -1.068852  0.085941 -0.718773  ...  0.398642  1.071534 -0.242412   \n",
              "6124   0.517408 -0.191823  1.182615  ... -0.319521 -0.587317  0.297626   \n",
              "5045  -0.770657  0.882060  0.631049  ... -0.167350 -0.473605 -0.044777   \n",
              "10972 -0.045384 -0.244000  1.396201  ... -0.438242 -1.044575  0.082070   \n",
              "3209   1.081153 -0.314013  0.546929  ...  0.126549  0.711798 -0.284272   \n",
              "\n",
              "            V24       V25       V26       V27       V28  Amount  Class  \n",
              "3011  -0.431888  0.526412 -0.019775  0.034305  0.012044   29.99    0.0  \n",
              "6124   0.314755 -0.320519  0.004578 -0.239274  0.121355    9.72    0.0  \n",
              "5045   0.927167  0.503068 -0.040473 -0.021335  0.021683   33.41    0.0  \n",
              "10972 -0.186507  0.250429  0.086749 -0.059415  0.008511    9.98    0.0  \n",
              "3209   0.543640  0.018714 -0.869842  0.235878 -0.021606    1.00    0.0  \n",
              "\n",
              "[5 rows x 31 columns]"
            ],
            "text/html": [
              "\n",
              "  <div id=\"df-d2c31caa-280b-47ee-a1a8-726f1801c84e\">\n",
              "    <div class=\"colab-df-container\">\n",
              "      <div>\n",
              "<style scoped>\n",
              "    .dataframe tbody tr th:only-of-type {\n",
              "        vertical-align: middle;\n",
              "    }\n",
              "\n",
              "    .dataframe tbody tr th {\n",
              "        vertical-align: top;\n",
              "    }\n",
              "\n",
              "    .dataframe thead th {\n",
              "        text-align: right;\n",
              "    }\n",
              "</style>\n",
              "<table border=\"1\" class=\"dataframe\">\n",
              "  <thead>\n",
              "    <tr style=\"text-align: right;\">\n",
              "      <th></th>\n",
              "      <th>Time</th>\n",
              "      <th>V1</th>\n",
              "      <th>V2</th>\n",
              "      <th>V3</th>\n",
              "      <th>V4</th>\n",
              "      <th>V5</th>\n",
              "      <th>V6</th>\n",
              "      <th>V7</th>\n",
              "      <th>V8</th>\n",
              "      <th>V9</th>\n",
              "      <th>...</th>\n",
              "      <th>V21</th>\n",
              "      <th>V22</th>\n",
              "      <th>V23</th>\n",
              "      <th>V24</th>\n",
              "      <th>V25</th>\n",
              "      <th>V26</th>\n",
              "      <th>V27</th>\n",
              "      <th>V28</th>\n",
              "      <th>Amount</th>\n",
              "      <th>Class</th>\n",
              "    </tr>\n",
              "  </thead>\n",
              "  <tbody>\n",
              "    <tr>\n",
              "      <th>3011</th>\n",
              "      <td>2561</td>\n",
              "      <td>1.355336</td>\n",
              "      <td>-0.731159</td>\n",
              "      <td>0.667897</td>\n",
              "      <td>-0.929903</td>\n",
              "      <td>-1.004661</td>\n",
              "      <td>0.085218</td>\n",
              "      <td>-1.068852</td>\n",
              "      <td>0.085941</td>\n",
              "      <td>-0.718773</td>\n",
              "      <td>...</td>\n",
              "      <td>0.398642</td>\n",
              "      <td>1.071534</td>\n",
              "      <td>-0.242412</td>\n",
              "      <td>-0.431888</td>\n",
              "      <td>0.526412</td>\n",
              "      <td>-0.019775</td>\n",
              "      <td>0.034305</td>\n",
              "      <td>0.012044</td>\n",
              "      <td>29.99</td>\n",
              "      <td>0.0</td>\n",
              "    </tr>\n",
              "    <tr>\n",
              "      <th>6124</th>\n",
              "      <td>7023</td>\n",
              "      <td>-1.193636</td>\n",
              "      <td>1.063804</td>\n",
              "      <td>1.615202</td>\n",
              "      <td>0.209933</td>\n",
              "      <td>0.054365</td>\n",
              "      <td>-0.610597</td>\n",
              "      <td>0.517408</td>\n",
              "      <td>-0.191823</td>\n",
              "      <td>1.182615</td>\n",
              "      <td>...</td>\n",
              "      <td>-0.319521</td>\n",
              "      <td>-0.587317</td>\n",
              "      <td>0.297626</td>\n",
              "      <td>0.314755</td>\n",
              "      <td>-0.320519</td>\n",
              "      <td>0.004578</td>\n",
              "      <td>-0.239274</td>\n",
              "      <td>0.121355</td>\n",
              "      <td>9.72</td>\n",
              "      <td>0.0</td>\n",
              "    </tr>\n",
              "    <tr>\n",
              "      <th>5045</th>\n",
              "      <td>4657</td>\n",
              "      <td>1.170605</td>\n",
              "      <td>0.244659</td>\n",
              "      <td>-0.483872</td>\n",
              "      <td>1.556334</td>\n",
              "      <td>2.146021</td>\n",
              "      <td>3.965380</td>\n",
              "      <td>-0.770657</td>\n",
              "      <td>0.882060</td>\n",
              "      <td>0.631049</td>\n",
              "      <td>...</td>\n",
              "      <td>-0.167350</td>\n",
              "      <td>-0.473605</td>\n",
              "      <td>-0.044777</td>\n",
              "      <td>0.927167</td>\n",
              "      <td>0.503068</td>\n",
              "      <td>-0.040473</td>\n",
              "      <td>-0.021335</td>\n",
              "      <td>0.021683</td>\n",
              "      <td>33.41</td>\n",
              "      <td>0.0</td>\n",
              "    </tr>\n",
              "    <tr>\n",
              "      <th>10972</th>\n",
              "      <td>18871</td>\n",
              "      <td>1.282442</td>\n",
              "      <td>0.307640</td>\n",
              "      <td>0.432982</td>\n",
              "      <td>0.716393</td>\n",
              "      <td>-0.190866</td>\n",
              "      <td>-0.663166</td>\n",
              "      <td>-0.045384</td>\n",
              "      <td>-0.244000</td>\n",
              "      <td>1.396201</td>\n",
              "      <td>...</td>\n",
              "      <td>-0.438242</td>\n",
              "      <td>-1.044575</td>\n",
              "      <td>0.082070</td>\n",
              "      <td>-0.186507</td>\n",
              "      <td>0.250429</td>\n",
              "      <td>0.086749</td>\n",
              "      <td>-0.059415</td>\n",
              "      <td>0.008511</td>\n",
              "      <td>9.98</td>\n",
              "      <td>0.0</td>\n",
              "    </tr>\n",
              "    <tr>\n",
              "      <th>3209</th>\n",
              "      <td>2789</td>\n",
              "      <td>-0.415426</td>\n",
              "      <td>0.673509</td>\n",
              "      <td>1.210091</td>\n",
              "      <td>-2.102860</td>\n",
              "      <td>0.137877</td>\n",
              "      <td>-1.294730</td>\n",
              "      <td>1.081153</td>\n",
              "      <td>-0.314013</td>\n",
              "      <td>0.546929</td>\n",
              "      <td>...</td>\n",
              "      <td>0.126549</td>\n",
              "      <td>0.711798</td>\n",
              "      <td>-0.284272</td>\n",
              "      <td>0.543640</td>\n",
              "      <td>0.018714</td>\n",
              "      <td>-0.869842</td>\n",
              "      <td>0.235878</td>\n",
              "      <td>-0.021606</td>\n",
              "      <td>1.00</td>\n",
              "      <td>0.0</td>\n",
              "    </tr>\n",
              "  </tbody>\n",
              "</table>\n",
              "<p>5 rows × 31 columns</p>\n",
              "</div>\n",
              "      <button class=\"colab-df-convert\" onclick=\"convertToInteractive('df-d2c31caa-280b-47ee-a1a8-726f1801c84e')\"\n",
              "              title=\"Convert this dataframe to an interactive table.\"\n",
              "              style=\"display:none;\">\n",
              "        \n",
              "  <svg xmlns=\"http://www.w3.org/2000/svg\" height=\"24px\"viewBox=\"0 0 24 24\"\n",
              "       width=\"24px\">\n",
              "    <path d=\"M0 0h24v24H0V0z\" fill=\"none\"/>\n",
              "    <path d=\"M18.56 5.44l.94 2.06.94-2.06 2.06-.94-2.06-.94-.94-2.06-.94 2.06-2.06.94zm-11 1L8.5 8.5l.94-2.06 2.06-.94-2.06-.94L8.5 2.5l-.94 2.06-2.06.94zm10 10l.94 2.06.94-2.06 2.06-.94-2.06-.94-.94-2.06-.94 2.06-2.06.94z\"/><path d=\"M17.41 7.96l-1.37-1.37c-.4-.4-.92-.59-1.43-.59-.52 0-1.04.2-1.43.59L10.3 9.45l-7.72 7.72c-.78.78-.78 2.05 0 2.83L4 21.41c.39.39.9.59 1.41.59.51 0 1.02-.2 1.41-.59l7.78-7.78 2.81-2.81c.8-.78.8-2.07 0-2.86zM5.41 20L4 18.59l7.72-7.72 1.47 1.35L5.41 20z\"/>\n",
              "  </svg>\n",
              "      </button>\n",
              "      \n",
              "  <style>\n",
              "    .colab-df-container {\n",
              "      display:flex;\n",
              "      flex-wrap:wrap;\n",
              "      gap: 12px;\n",
              "    }\n",
              "\n",
              "    .colab-df-convert {\n",
              "      background-color: #E8F0FE;\n",
              "      border: none;\n",
              "      border-radius: 50%;\n",
              "      cursor: pointer;\n",
              "      display: none;\n",
              "      fill: #1967D2;\n",
              "      height: 32px;\n",
              "      padding: 0 0 0 0;\n",
              "      width: 32px;\n",
              "    }\n",
              "\n",
              "    .colab-df-convert:hover {\n",
              "      background-color: #E2EBFA;\n",
              "      box-shadow: 0px 1px 2px rgba(60, 64, 67, 0.3), 0px 1px 3px 1px rgba(60, 64, 67, 0.15);\n",
              "      fill: #174EA6;\n",
              "    }\n",
              "\n",
              "    [theme=dark] .colab-df-convert {\n",
              "      background-color: #3B4455;\n",
              "      fill: #D2E3FC;\n",
              "    }\n",
              "\n",
              "    [theme=dark] .colab-df-convert:hover {\n",
              "      background-color: #434B5C;\n",
              "      box-shadow: 0px 1px 3px 1px rgba(0, 0, 0, 0.15);\n",
              "      filter: drop-shadow(0px 1px 2px rgba(0, 0, 0, 0.3));\n",
              "      fill: #FFFFFF;\n",
              "    }\n",
              "  </style>\n",
              "\n",
              "      <script>\n",
              "        const buttonEl =\n",
              "          document.querySelector('#df-d2c31caa-280b-47ee-a1a8-726f1801c84e button.colab-df-convert');\n",
              "        buttonEl.style.display =\n",
              "          google.colab.kernel.accessAllowed ? 'block' : 'none';\n",
              "\n",
              "        async function convertToInteractive(key) {\n",
              "          const element = document.querySelector('#df-d2c31caa-280b-47ee-a1a8-726f1801c84e');\n",
              "          const dataTable =\n",
              "            await google.colab.kernel.invokeFunction('convertToInteractive',\n",
              "                                                     [key], {});\n",
              "          if (!dataTable) return;\n",
              "\n",
              "          const docLinkHtml = 'Like what you see? Visit the ' +\n",
              "            '<a target=\"_blank\" href=https://colab.research.google.com/notebooks/data_table.ipynb>data table notebook</a>'\n",
              "            + ' to learn more about interactive tables.';\n",
              "          element.innerHTML = '';\n",
              "          dataTable['output_type'] = 'display_data';\n",
              "          await google.colab.output.renderOutput(dataTable, element);\n",
              "          const docLink = document.createElement('div');\n",
              "          docLink.innerHTML = docLinkHtml;\n",
              "          element.appendChild(docLink);\n",
              "        }\n",
              "      </script>\n",
              "    </div>\n",
              "  </div>\n",
              "  "
            ]
          },
          "metadata": {},
          "execution_count": 17
        }
      ]
    },
    {
      "cell_type": "code",
      "metadata": {
        "colab": {
          "base_uri": "https://localhost:8080/",
          "height": 299
        },
        "id": "n_Rjt1qDX3AQ",
        "outputId": "0ec55ca9-6310-4809-8393-0a353ddc94e8"
      },
      "source": [
        "new_dataset.tail()"
      ],
      "execution_count": null,
      "outputs": [
        {
          "output_type": "execute_result",
          "data": {
            "text/plain": [
              "        Time         V1        V2         V3         V4        V5        V6  \\\n",
              "10897  18690 -15.398845  7.472324 -19.026912  11.165526 -6.893856 -2.120937   \n",
              "11343  19762 -14.179165  7.421370 -21.405836  11.927512 -7.974281 -2.202710   \n",
              "11710  20011 -14.724627  7.875157 -21.872317  11.906170 -8.348734 -2.262846   \n",
              "11841  20332 -15.271362  8.326581 -22.338591  11.885313 -8.721334 -2.324307   \n",
              "11880  20451 -15.819179  8.775997 -22.804686  11.864868 -9.092361 -2.386893   \n",
              "\n",
              "              V7        V8        V9  ...       V21       V22       V23  \\\n",
              "10897 -14.913330 -0.721214 -7.175097  ... -2.444884  0.727495 -0.345078   \n",
              "11343 -15.471612 -0.356595 -6.380125  ... -2.366836  1.130955  0.991153   \n",
              "11710 -15.833443  0.077874 -6.356833  ... -2.362345  1.099557  1.037199   \n",
              "11841 -16.196419  0.512882 -6.333685  ... -2.356896  1.068019  1.085617   \n",
              "11880 -16.560368  0.948349 -6.310658  ... -2.350634  1.036362  1.136051   \n",
              "\n",
              "            V24       V25       V26       V27       V28  Amount  Class  \n",
              "10897 -0.981749  0.995271  0.816762  2.262942 -1.178063     1.0    1.0  \n",
              "11343 -1.033132 -0.327179  0.634693  2.171905 -1.395288     1.0    1.0  \n",
              "11710 -1.036359 -0.254777  0.642343  2.161129 -1.401282     1.0    1.0  \n",
              "11841 -1.039797 -0.182006  0.649921  2.149247 -1.406811     1.0    1.0  \n",
              "11880 -1.043414 -0.108923  0.657437  2.136424 -1.411945     1.0    1.0  \n",
              "\n",
              "[5 rows x 31 columns]"
            ],
            "text/html": [
              "\n",
              "  <div id=\"df-43d90b6d-797c-40c8-8cf3-2a46753b6cfc\">\n",
              "    <div class=\"colab-df-container\">\n",
              "      <div>\n",
              "<style scoped>\n",
              "    .dataframe tbody tr th:only-of-type {\n",
              "        vertical-align: middle;\n",
              "    }\n",
              "\n",
              "    .dataframe tbody tr th {\n",
              "        vertical-align: top;\n",
              "    }\n",
              "\n",
              "    .dataframe thead th {\n",
              "        text-align: right;\n",
              "    }\n",
              "</style>\n",
              "<table border=\"1\" class=\"dataframe\">\n",
              "  <thead>\n",
              "    <tr style=\"text-align: right;\">\n",
              "      <th></th>\n",
              "      <th>Time</th>\n",
              "      <th>V1</th>\n",
              "      <th>V2</th>\n",
              "      <th>V3</th>\n",
              "      <th>V4</th>\n",
              "      <th>V5</th>\n",
              "      <th>V6</th>\n",
              "      <th>V7</th>\n",
              "      <th>V8</th>\n",
              "      <th>V9</th>\n",
              "      <th>...</th>\n",
              "      <th>V21</th>\n",
              "      <th>V22</th>\n",
              "      <th>V23</th>\n",
              "      <th>V24</th>\n",
              "      <th>V25</th>\n",
              "      <th>V26</th>\n",
              "      <th>V27</th>\n",
              "      <th>V28</th>\n",
              "      <th>Amount</th>\n",
              "      <th>Class</th>\n",
              "    </tr>\n",
              "  </thead>\n",
              "  <tbody>\n",
              "    <tr>\n",
              "      <th>10897</th>\n",
              "      <td>18690</td>\n",
              "      <td>-15.398845</td>\n",
              "      <td>7.472324</td>\n",
              "      <td>-19.026912</td>\n",
              "      <td>11.165526</td>\n",
              "      <td>-6.893856</td>\n",
              "      <td>-2.120937</td>\n",
              "      <td>-14.913330</td>\n",
              "      <td>-0.721214</td>\n",
              "      <td>-7.175097</td>\n",
              "      <td>...</td>\n",
              "      <td>-2.444884</td>\n",
              "      <td>0.727495</td>\n",
              "      <td>-0.345078</td>\n",
              "      <td>-0.981749</td>\n",
              "      <td>0.995271</td>\n",
              "      <td>0.816762</td>\n",
              "      <td>2.262942</td>\n",
              "      <td>-1.178063</td>\n",
              "      <td>1.0</td>\n",
              "      <td>1.0</td>\n",
              "    </tr>\n",
              "    <tr>\n",
              "      <th>11343</th>\n",
              "      <td>19762</td>\n",
              "      <td>-14.179165</td>\n",
              "      <td>7.421370</td>\n",
              "      <td>-21.405836</td>\n",
              "      <td>11.927512</td>\n",
              "      <td>-7.974281</td>\n",
              "      <td>-2.202710</td>\n",
              "      <td>-15.471612</td>\n",
              "      <td>-0.356595</td>\n",
              "      <td>-6.380125</td>\n",
              "      <td>...</td>\n",
              "      <td>-2.366836</td>\n",
              "      <td>1.130955</td>\n",
              "      <td>0.991153</td>\n",
              "      <td>-1.033132</td>\n",
              "      <td>-0.327179</td>\n",
              "      <td>0.634693</td>\n",
              "      <td>2.171905</td>\n",
              "      <td>-1.395288</td>\n",
              "      <td>1.0</td>\n",
              "      <td>1.0</td>\n",
              "    </tr>\n",
              "    <tr>\n",
              "      <th>11710</th>\n",
              "      <td>20011</td>\n",
              "      <td>-14.724627</td>\n",
              "      <td>7.875157</td>\n",
              "      <td>-21.872317</td>\n",
              "      <td>11.906170</td>\n",
              "      <td>-8.348734</td>\n",
              "      <td>-2.262846</td>\n",
              "      <td>-15.833443</td>\n",
              "      <td>0.077874</td>\n",
              "      <td>-6.356833</td>\n",
              "      <td>...</td>\n",
              "      <td>-2.362345</td>\n",
              "      <td>1.099557</td>\n",
              "      <td>1.037199</td>\n",
              "      <td>-1.036359</td>\n",
              "      <td>-0.254777</td>\n",
              "      <td>0.642343</td>\n",
              "      <td>2.161129</td>\n",
              "      <td>-1.401282</td>\n",
              "      <td>1.0</td>\n",
              "      <td>1.0</td>\n",
              "    </tr>\n",
              "    <tr>\n",
              "      <th>11841</th>\n",
              "      <td>20332</td>\n",
              "      <td>-15.271362</td>\n",
              "      <td>8.326581</td>\n",
              "      <td>-22.338591</td>\n",
              "      <td>11.885313</td>\n",
              "      <td>-8.721334</td>\n",
              "      <td>-2.324307</td>\n",
              "      <td>-16.196419</td>\n",
              "      <td>0.512882</td>\n",
              "      <td>-6.333685</td>\n",
              "      <td>...</td>\n",
              "      <td>-2.356896</td>\n",
              "      <td>1.068019</td>\n",
              "      <td>1.085617</td>\n",
              "      <td>-1.039797</td>\n",
              "      <td>-0.182006</td>\n",
              "      <td>0.649921</td>\n",
              "      <td>2.149247</td>\n",
              "      <td>-1.406811</td>\n",
              "      <td>1.0</td>\n",
              "      <td>1.0</td>\n",
              "    </tr>\n",
              "    <tr>\n",
              "      <th>11880</th>\n",
              "      <td>20451</td>\n",
              "      <td>-15.819179</td>\n",
              "      <td>8.775997</td>\n",
              "      <td>-22.804686</td>\n",
              "      <td>11.864868</td>\n",
              "      <td>-9.092361</td>\n",
              "      <td>-2.386893</td>\n",
              "      <td>-16.560368</td>\n",
              "      <td>0.948349</td>\n",
              "      <td>-6.310658</td>\n",
              "      <td>...</td>\n",
              "      <td>-2.350634</td>\n",
              "      <td>1.036362</td>\n",
              "      <td>1.136051</td>\n",
              "      <td>-1.043414</td>\n",
              "      <td>-0.108923</td>\n",
              "      <td>0.657437</td>\n",
              "      <td>2.136424</td>\n",
              "      <td>-1.411945</td>\n",
              "      <td>1.0</td>\n",
              "      <td>1.0</td>\n",
              "    </tr>\n",
              "  </tbody>\n",
              "</table>\n",
              "<p>5 rows × 31 columns</p>\n",
              "</div>\n",
              "      <button class=\"colab-df-convert\" onclick=\"convertToInteractive('df-43d90b6d-797c-40c8-8cf3-2a46753b6cfc')\"\n",
              "              title=\"Convert this dataframe to an interactive table.\"\n",
              "              style=\"display:none;\">\n",
              "        \n",
              "  <svg xmlns=\"http://www.w3.org/2000/svg\" height=\"24px\"viewBox=\"0 0 24 24\"\n",
              "       width=\"24px\">\n",
              "    <path d=\"M0 0h24v24H0V0z\" fill=\"none\"/>\n",
              "    <path d=\"M18.56 5.44l.94 2.06.94-2.06 2.06-.94-2.06-.94-.94-2.06-.94 2.06-2.06.94zm-11 1L8.5 8.5l.94-2.06 2.06-.94-2.06-.94L8.5 2.5l-.94 2.06-2.06.94zm10 10l.94 2.06.94-2.06 2.06-.94-2.06-.94-.94-2.06-.94 2.06-2.06.94z\"/><path d=\"M17.41 7.96l-1.37-1.37c-.4-.4-.92-.59-1.43-.59-.52 0-1.04.2-1.43.59L10.3 9.45l-7.72 7.72c-.78.78-.78 2.05 0 2.83L4 21.41c.39.39.9.59 1.41.59.51 0 1.02-.2 1.41-.59l7.78-7.78 2.81-2.81c.8-.78.8-2.07 0-2.86zM5.41 20L4 18.59l7.72-7.72 1.47 1.35L5.41 20z\"/>\n",
              "  </svg>\n",
              "      </button>\n",
              "      \n",
              "  <style>\n",
              "    .colab-df-container {\n",
              "      display:flex;\n",
              "      flex-wrap:wrap;\n",
              "      gap: 12px;\n",
              "    }\n",
              "\n",
              "    .colab-df-convert {\n",
              "      background-color: #E8F0FE;\n",
              "      border: none;\n",
              "      border-radius: 50%;\n",
              "      cursor: pointer;\n",
              "      display: none;\n",
              "      fill: #1967D2;\n",
              "      height: 32px;\n",
              "      padding: 0 0 0 0;\n",
              "      width: 32px;\n",
              "    }\n",
              "\n",
              "    .colab-df-convert:hover {\n",
              "      background-color: #E2EBFA;\n",
              "      box-shadow: 0px 1px 2px rgba(60, 64, 67, 0.3), 0px 1px 3px 1px rgba(60, 64, 67, 0.15);\n",
              "      fill: #174EA6;\n",
              "    }\n",
              "\n",
              "    [theme=dark] .colab-df-convert {\n",
              "      background-color: #3B4455;\n",
              "      fill: #D2E3FC;\n",
              "    }\n",
              "\n",
              "    [theme=dark] .colab-df-convert:hover {\n",
              "      background-color: #434B5C;\n",
              "      box-shadow: 0px 1px 3px 1px rgba(0, 0, 0, 0.15);\n",
              "      filter: drop-shadow(0px 1px 2px rgba(0, 0, 0, 0.3));\n",
              "      fill: #FFFFFF;\n",
              "    }\n",
              "  </style>\n",
              "\n",
              "      <script>\n",
              "        const buttonEl =\n",
              "          document.querySelector('#df-43d90b6d-797c-40c8-8cf3-2a46753b6cfc button.colab-df-convert');\n",
              "        buttonEl.style.display =\n",
              "          google.colab.kernel.accessAllowed ? 'block' : 'none';\n",
              "\n",
              "        async function convertToInteractive(key) {\n",
              "          const element = document.querySelector('#df-43d90b6d-797c-40c8-8cf3-2a46753b6cfc');\n",
              "          const dataTable =\n",
              "            await google.colab.kernel.invokeFunction('convertToInteractive',\n",
              "                                                     [key], {});\n",
              "          if (!dataTable) return;\n",
              "\n",
              "          const docLinkHtml = 'Like what you see? Visit the ' +\n",
              "            '<a target=\"_blank\" href=https://colab.research.google.com/notebooks/data_table.ipynb>data table notebook</a>'\n",
              "            + ' to learn more about interactive tables.';\n",
              "          element.innerHTML = '';\n",
              "          dataTable['output_type'] = 'display_data';\n",
              "          await google.colab.output.renderOutput(dataTable, element);\n",
              "          const docLink = document.createElement('div');\n",
              "          docLink.innerHTML = docLinkHtml;\n",
              "          element.appendChild(docLink);\n",
              "        }\n",
              "      </script>\n",
              "    </div>\n",
              "  </div>\n",
              "  "
            ]
          },
          "metadata": {},
          "execution_count": 18
        }
      ]
    },
    {
      "cell_type": "code",
      "metadata": {
        "colab": {
          "base_uri": "https://localhost:8080/"
        },
        "id": "bFsRcj0gX-3M",
        "outputId": "95dbd35d-f3ae-4885-d6d0-341bdd78caed"
      },
      "source": [
        "new_dataset['Class'].value_counts()"
      ],
      "execution_count": null,
      "outputs": [
        {
          "output_type": "execute_result",
          "data": {
            "text/plain": [
              "0.0    492\n",
              "1.0     52\n",
              "Name: Class, dtype: int64"
            ]
          },
          "metadata": {},
          "execution_count": 19
        }
      ]
    },
    {
      "cell_type": "code",
      "metadata": {
        "colab": {
          "base_uri": "https://localhost:8080/",
          "height": 237
        },
        "id": "jan1xMeWYLrM",
        "outputId": "f001d2e2-f8c3-4df7-8f57-53e3b4c16491"
      },
      "source": [
        "new_dataset.groupby('Class').mean()"
      ],
      "execution_count": null,
      "outputs": [
        {
          "output_type": "execute_result",
          "data": {
            "text/plain": [
              "               Time        V1        V2        V3        V4        V5  \\\n",
              "Class                                                                   \n",
              "0.0     8487.619919 -0.301229  0.369534  0.964665  0.301203 -0.000812   \n",
              "1.0    11569.615385 -3.769104  4.258027 -8.202329  6.396396 -2.342431   \n",
              "\n",
              "             V6        V7        V8        V9  ...       V20       V21  \\\n",
              "Class                                          ...                       \n",
              "0.0    0.228771 -0.092670 -0.188762  1.057747  ...  0.036931 -0.006256   \n",
              "1.0   -1.990562 -5.740207  0.950650 -2.729769  ...  0.411236  0.305259   \n",
              "\n",
              "            V22       V23       V24       V25       V26       V27       V28  \\\n",
              "Class                                                                         \n",
              "0.0   -0.203025 -0.041199  0.008194  0.103296  0.045397  0.034891 -0.010183   \n",
              "1.0   -0.021762 -0.340563 -0.406311 -0.139505  0.306967  0.692927  0.059751   \n",
              "\n",
              "          Amount  \n",
              "Class             \n",
              "0.0    59.259106  \n",
              "1.0    97.724808  \n",
              "\n",
              "[2 rows x 30 columns]"
            ],
            "text/html": [
              "\n",
              "  <div id=\"df-499386a4-6d1f-4b02-ac52-67bcea81dbdf\">\n",
              "    <div class=\"colab-df-container\">\n",
              "      <div>\n",
              "<style scoped>\n",
              "    .dataframe tbody tr th:only-of-type {\n",
              "        vertical-align: middle;\n",
              "    }\n",
              "\n",
              "    .dataframe tbody tr th {\n",
              "        vertical-align: top;\n",
              "    }\n",
              "\n",
              "    .dataframe thead th {\n",
              "        text-align: right;\n",
              "    }\n",
              "</style>\n",
              "<table border=\"1\" class=\"dataframe\">\n",
              "  <thead>\n",
              "    <tr style=\"text-align: right;\">\n",
              "      <th></th>\n",
              "      <th>Time</th>\n",
              "      <th>V1</th>\n",
              "      <th>V2</th>\n",
              "      <th>V3</th>\n",
              "      <th>V4</th>\n",
              "      <th>V5</th>\n",
              "      <th>V6</th>\n",
              "      <th>V7</th>\n",
              "      <th>V8</th>\n",
              "      <th>V9</th>\n",
              "      <th>...</th>\n",
              "      <th>V20</th>\n",
              "      <th>V21</th>\n",
              "      <th>V22</th>\n",
              "      <th>V23</th>\n",
              "      <th>V24</th>\n",
              "      <th>V25</th>\n",
              "      <th>V26</th>\n",
              "      <th>V27</th>\n",
              "      <th>V28</th>\n",
              "      <th>Amount</th>\n",
              "    </tr>\n",
              "    <tr>\n",
              "      <th>Class</th>\n",
              "      <th></th>\n",
              "      <th></th>\n",
              "      <th></th>\n",
              "      <th></th>\n",
              "      <th></th>\n",
              "      <th></th>\n",
              "      <th></th>\n",
              "      <th></th>\n",
              "      <th></th>\n",
              "      <th></th>\n",
              "      <th></th>\n",
              "      <th></th>\n",
              "      <th></th>\n",
              "      <th></th>\n",
              "      <th></th>\n",
              "      <th></th>\n",
              "      <th></th>\n",
              "      <th></th>\n",
              "      <th></th>\n",
              "      <th></th>\n",
              "      <th></th>\n",
              "    </tr>\n",
              "  </thead>\n",
              "  <tbody>\n",
              "    <tr>\n",
              "      <th>0.0</th>\n",
              "      <td>8487.619919</td>\n",
              "      <td>-0.301229</td>\n",
              "      <td>0.369534</td>\n",
              "      <td>0.964665</td>\n",
              "      <td>0.301203</td>\n",
              "      <td>-0.000812</td>\n",
              "      <td>0.228771</td>\n",
              "      <td>-0.092670</td>\n",
              "      <td>-0.188762</td>\n",
              "      <td>1.057747</td>\n",
              "      <td>...</td>\n",
              "      <td>0.036931</td>\n",
              "      <td>-0.006256</td>\n",
              "      <td>-0.203025</td>\n",
              "      <td>-0.041199</td>\n",
              "      <td>0.008194</td>\n",
              "      <td>0.103296</td>\n",
              "      <td>0.045397</td>\n",
              "      <td>0.034891</td>\n",
              "      <td>-0.010183</td>\n",
              "      <td>59.259106</td>\n",
              "    </tr>\n",
              "    <tr>\n",
              "      <th>1.0</th>\n",
              "      <td>11569.615385</td>\n",
              "      <td>-3.769104</td>\n",
              "      <td>4.258027</td>\n",
              "      <td>-8.202329</td>\n",
              "      <td>6.396396</td>\n",
              "      <td>-2.342431</td>\n",
              "      <td>-1.990562</td>\n",
              "      <td>-5.740207</td>\n",
              "      <td>0.950650</td>\n",
              "      <td>-2.729769</td>\n",
              "      <td>...</td>\n",
              "      <td>0.411236</td>\n",
              "      <td>0.305259</td>\n",
              "      <td>-0.021762</td>\n",
              "      <td>-0.340563</td>\n",
              "      <td>-0.406311</td>\n",
              "      <td>-0.139505</td>\n",
              "      <td>0.306967</td>\n",
              "      <td>0.692927</td>\n",
              "      <td>0.059751</td>\n",
              "      <td>97.724808</td>\n",
              "    </tr>\n",
              "  </tbody>\n",
              "</table>\n",
              "<p>2 rows × 30 columns</p>\n",
              "</div>\n",
              "      <button class=\"colab-df-convert\" onclick=\"convertToInteractive('df-499386a4-6d1f-4b02-ac52-67bcea81dbdf')\"\n",
              "              title=\"Convert this dataframe to an interactive table.\"\n",
              "              style=\"display:none;\">\n",
              "        \n",
              "  <svg xmlns=\"http://www.w3.org/2000/svg\" height=\"24px\"viewBox=\"0 0 24 24\"\n",
              "       width=\"24px\">\n",
              "    <path d=\"M0 0h24v24H0V0z\" fill=\"none\"/>\n",
              "    <path d=\"M18.56 5.44l.94 2.06.94-2.06 2.06-.94-2.06-.94-.94-2.06-.94 2.06-2.06.94zm-11 1L8.5 8.5l.94-2.06 2.06-.94-2.06-.94L8.5 2.5l-.94 2.06-2.06.94zm10 10l.94 2.06.94-2.06 2.06-.94-2.06-.94-.94-2.06-.94 2.06-2.06.94z\"/><path d=\"M17.41 7.96l-1.37-1.37c-.4-.4-.92-.59-1.43-.59-.52 0-1.04.2-1.43.59L10.3 9.45l-7.72 7.72c-.78.78-.78 2.05 0 2.83L4 21.41c.39.39.9.59 1.41.59.51 0 1.02-.2 1.41-.59l7.78-7.78 2.81-2.81c.8-.78.8-2.07 0-2.86zM5.41 20L4 18.59l7.72-7.72 1.47 1.35L5.41 20z\"/>\n",
              "  </svg>\n",
              "      </button>\n",
              "      \n",
              "  <style>\n",
              "    .colab-df-container {\n",
              "      display:flex;\n",
              "      flex-wrap:wrap;\n",
              "      gap: 12px;\n",
              "    }\n",
              "\n",
              "    .colab-df-convert {\n",
              "      background-color: #E8F0FE;\n",
              "      border: none;\n",
              "      border-radius: 50%;\n",
              "      cursor: pointer;\n",
              "      display: none;\n",
              "      fill: #1967D2;\n",
              "      height: 32px;\n",
              "      padding: 0 0 0 0;\n",
              "      width: 32px;\n",
              "    }\n",
              "\n",
              "    .colab-df-convert:hover {\n",
              "      background-color: #E2EBFA;\n",
              "      box-shadow: 0px 1px 2px rgba(60, 64, 67, 0.3), 0px 1px 3px 1px rgba(60, 64, 67, 0.15);\n",
              "      fill: #174EA6;\n",
              "    }\n",
              "\n",
              "    [theme=dark] .colab-df-convert {\n",
              "      background-color: #3B4455;\n",
              "      fill: #D2E3FC;\n",
              "    }\n",
              "\n",
              "    [theme=dark] .colab-df-convert:hover {\n",
              "      background-color: #434B5C;\n",
              "      box-shadow: 0px 1px 3px 1px rgba(0, 0, 0, 0.15);\n",
              "      filter: drop-shadow(0px 1px 2px rgba(0, 0, 0, 0.3));\n",
              "      fill: #FFFFFF;\n",
              "    }\n",
              "  </style>\n",
              "\n",
              "      <script>\n",
              "        const buttonEl =\n",
              "          document.querySelector('#df-499386a4-6d1f-4b02-ac52-67bcea81dbdf button.colab-df-convert');\n",
              "        buttonEl.style.display =\n",
              "          google.colab.kernel.accessAllowed ? 'block' : 'none';\n",
              "\n",
              "        async function convertToInteractive(key) {\n",
              "          const element = document.querySelector('#df-499386a4-6d1f-4b02-ac52-67bcea81dbdf');\n",
              "          const dataTable =\n",
              "            await google.colab.kernel.invokeFunction('convertToInteractive',\n",
              "                                                     [key], {});\n",
              "          if (!dataTable) return;\n",
              "\n",
              "          const docLinkHtml = 'Like what you see? Visit the ' +\n",
              "            '<a target=\"_blank\" href=https://colab.research.google.com/notebooks/data_table.ipynb>data table notebook</a>'\n",
              "            + ' to learn more about interactive tables.';\n",
              "          element.innerHTML = '';\n",
              "          dataTable['output_type'] = 'display_data';\n",
              "          await google.colab.output.renderOutput(dataTable, element);\n",
              "          const docLink = document.createElement('div');\n",
              "          docLink.innerHTML = docLinkHtml;\n",
              "          element.appendChild(docLink);\n",
              "        }\n",
              "      </script>\n",
              "    </div>\n",
              "  </div>\n",
              "  "
            ]
          },
          "metadata": {},
          "execution_count": 20
        }
      ]
    },
    {
      "cell_type": "markdown",
      "metadata": {
        "id": "wbe0g12oYhyK"
      },
      "source": [
        "Splitting the data into Features & Targets"
      ]
    },
    {
      "cell_type": "code",
      "metadata": {
        "id": "oiC0OOyUYUoD"
      },
      "source": [
        "X = new_dataset.drop(columns='Class', axis=1)\n",
        "Y = new_dataset['Class']"
      ],
      "execution_count": null,
      "outputs": []
    },
    {
      "cell_type": "code",
      "metadata": {
        "colab": {
          "base_uri": "https://localhost:8080/"
        },
        "id": "9u7wbWqzYyrI",
        "outputId": "bcd3519d-8ff1-40c2-dc79-e60a469b219c"
      },
      "source": [
        "print(X)"
      ],
      "execution_count": null,
      "outputs": [
        {
          "output_type": "stream",
          "name": "stdout",
          "text": [
            "        Time         V1        V2         V3         V4        V5        V6  \\\n",
            "3011    2561   1.355336 -0.731159   0.667897  -0.929903 -1.004661  0.085218   \n",
            "6124    7023  -1.193636  1.063804   1.615202   0.209933  0.054365 -0.610597   \n",
            "5045    4657   1.170605  0.244659  -0.483872   1.556334  2.146021  3.965380   \n",
            "10972  18871   1.282442  0.307640   0.432982   0.716393 -0.190866 -0.663166   \n",
            "3209    2789  -0.415426  0.673509   1.210091  -2.102860  0.137877 -1.294730   \n",
            "...      ...        ...       ...        ...        ...       ...       ...   \n",
            "10897  18690 -15.398845  7.472324 -19.026912  11.165526 -6.893856 -2.120937   \n",
            "11343  19762 -14.179165  7.421370 -21.405836  11.927512 -7.974281 -2.202710   \n",
            "11710  20011 -14.724627  7.875157 -21.872317  11.906170 -8.348734 -2.262846   \n",
            "11841  20332 -15.271362  8.326581 -22.338591  11.885313 -8.721334 -2.324307   \n",
            "11880  20451 -15.819179  8.775997 -22.804686  11.864868 -9.092361 -2.386893   \n",
            "\n",
            "              V7        V8        V9  ...       V20       V21       V22  \\\n",
            "3011   -1.068852  0.085941 -0.718773  ...  0.213866  0.398642  1.071534   \n",
            "6124    0.517408 -0.191823  1.182615  ... -0.208835 -0.319521 -0.587317   \n",
            "5045   -0.770657  0.882060  0.631049  ... -0.000810 -0.167350 -0.473605   \n",
            "10972  -0.045384 -0.244000  1.396201  ... -0.117695 -0.438242 -1.044575   \n",
            "3209    1.081153 -0.314013  0.546929  ...  0.040063  0.126549  0.711798   \n",
            "...          ...       ...       ...  ...       ...       ...       ...   \n",
            "10897 -14.913330 -0.721214 -7.175097  ...  1.111502 -2.444884  0.727495   \n",
            "11343 -15.471612 -0.356595 -6.380125  ...  1.002764 -2.366836  1.130955   \n",
            "11710 -15.833443  0.077874 -6.356833  ...  0.996469 -2.362345  1.099557   \n",
            "11841 -16.196419  0.512882 -6.333685  ...  0.993121 -2.356896  1.068019   \n",
            "11880 -16.560368  0.948349 -6.310658  ...  0.992279 -2.350634  1.036362   \n",
            "\n",
            "            V23       V24       V25       V26       V27       V28  Amount  \n",
            "3011  -0.242412 -0.431888  0.526412 -0.019775  0.034305  0.012044   29.99  \n",
            "6124   0.297626  0.314755 -0.320519  0.004578 -0.239274  0.121355    9.72  \n",
            "5045  -0.044777  0.927167  0.503068 -0.040473 -0.021335  0.021683   33.41  \n",
            "10972  0.082070 -0.186507  0.250429  0.086749 -0.059415  0.008511    9.98  \n",
            "3209  -0.284272  0.543640  0.018714 -0.869842  0.235878 -0.021606    1.00  \n",
            "...         ...       ...       ...       ...       ...       ...     ...  \n",
            "10897 -0.345078 -0.981749  0.995271  0.816762  2.262942 -1.178063    1.00  \n",
            "11343  0.991153 -1.033132 -0.327179  0.634693  2.171905 -1.395288    1.00  \n",
            "11710  1.037199 -1.036359 -0.254777  0.642343  2.161129 -1.401282    1.00  \n",
            "11841  1.085617 -1.039797 -0.182006  0.649921  2.149247 -1.406811    1.00  \n",
            "11880  1.136051 -1.043414 -0.108923  0.657437  2.136424 -1.411945    1.00  \n",
            "\n",
            "[544 rows x 30 columns]\n"
          ]
        }
      ]
    },
    {
      "cell_type": "code",
      "metadata": {
        "colab": {
          "base_uri": "https://localhost:8080/"
        },
        "id": "EHnRPzZvYz-F",
        "outputId": "66e61549-aba9-4c88-d4fb-bd03870c5917"
      },
      "source": [
        "print(Y)"
      ],
      "execution_count": null,
      "outputs": [
        {
          "output_type": "stream",
          "name": "stdout",
          "text": [
            "3011     0.0\n",
            "6124     0.0\n",
            "5045     0.0\n",
            "10972    0.0\n",
            "3209     0.0\n",
            "        ... \n",
            "10897    1.0\n",
            "11343    1.0\n",
            "11710    1.0\n",
            "11841    1.0\n",
            "11880    1.0\n",
            "Name: Class, Length: 544, dtype: float64\n"
          ]
        }
      ]
    },
    {
      "cell_type": "markdown",
      "metadata": {
        "id": "78wEbV41Y6j3"
      },
      "source": [
        "Split the data into Training data & Testing Data"
      ]
    },
    {
      "cell_type": "code",
      "metadata": {
        "id": "FrsqqwT0Y3n5"
      },
      "source": [
        "X_train, X_test, Y_train, Y_test = train_test_split(X, Y, test_size=0.2, stratify=Y, random_state=2)"
      ],
      "execution_count": null,
      "outputs": []
    },
    {
      "cell_type": "code",
      "metadata": {
        "colab": {
          "base_uri": "https://localhost:8080/"
        },
        "id": "FUmwXz99ZuvK",
        "outputId": "5e237ee5-2e19-48d6-a4da-d756adcc0079"
      },
      "source": [
        "print(X.shape, X_train.shape, X_test.shape)"
      ],
      "execution_count": null,
      "outputs": [
        {
          "output_type": "stream",
          "name": "stdout",
          "text": [
            "(544, 30) (435, 30) (109, 30)\n"
          ]
        }
      ]
    },
    {
      "cell_type": "markdown",
      "metadata": {
        "id": "aowgjqbeZ7d1"
      },
      "source": [
        "Model Training"
      ]
    },
    {
      "cell_type": "markdown",
      "metadata": {
        "id": "i0NkjaxyZ96E"
      },
      "source": [
        "Logistic Regression"
      ]
    },
    {
      "cell_type": "code",
      "metadata": {
        "id": "i0HHd1v8Z2Mq"
      },
      "source": [
        "model = LogisticRegression()"
      ],
      "execution_count": null,
      "outputs": []
    },
    {
      "cell_type": "markdown",
      "metadata": {
        "id": "H9FYWyKjalvC"
      },
      "source": [
        "Model Evaluation"
      ]
    },
    {
      "cell_type": "markdown",
      "metadata": {
        "id": "O6O6kbwYaoxH"
      },
      "source": [
        "Accuracy Score"
      ]
    },
    {
      "cell_type": "code",
      "metadata": {
        "id": "pC2kCJhOaage"
      },
      "source": [
        "# accuracy on training data\n",
        "X_train_prediction = model.predict(X_train)\n",
        "training_data_accuracy = accuracy_score(X_train_prediction, Y_train)"
      ],
      "execution_count": null,
      "outputs": []
    },
    {
      "cell_type": "code",
      "metadata": {
        "colab": {
          "base_uri": "https://localhost:8080/"
        },
        "id": "Ijq6gAevbDwm",
        "outputId": "2cf15796-4b17-4493-ae33-c0e53f110f49"
      },
      "source": [
        "print('Accuracy on Training data : ', training_data_accuracy)"
      ],
      "execution_count": null,
      "outputs": [
        {
          "output_type": "stream",
          "name": "stdout",
          "text": [
            "Accuracy on Training data :  0.9839080459770115\n"
          ]
        }
      ]
    },
    {
      "cell_type": "code",
      "metadata": {
        "id": "tryJUs6mbJM7"
      },
      "source": [
        "# accuracy on test data\n",
        "X_test_prediction = model.predict(X_test)\n",
        "test_data_accuracy = accuracy_score(X_test_prediction, Y_test)"
      ],
      "execution_count": null,
      "outputs": []
    },
    {
      "cell_type": "code",
      "metadata": {
        "colab": {
          "base_uri": "https://localhost:8080/"
        },
        "id": "lxEuN24ib3hS",
        "outputId": "848f4913-5343-41de-a560-50a017226423"
      },
      "source": [
        "print('Accuracy score on Test Data : ', test_data_accuracy)"
      ],
      "execution_count": null,
      "outputs": [
        {
          "output_type": "stream",
          "name": "stdout",
          "text": [
            "Accuracy score on Test Data :  0.9908256880733946\n"
          ]
        }
      ]
    },
    {
      "cell_type": "code",
      "source": [
        "# Importing XGBoost\n",
        "from xgboost import XGBClassifier"
      ],
      "metadata": {
        "id": "h0sh6c-2Ukgm"
      },
      "execution_count": null,
      "outputs": []
    },
    {
      "cell_type": "code",
      "source": [
        "XGB = XGBClassifier(max_depth = 4)\n",
        "XGB.fit(X_train, Y_train)\n",
        "XGB_yhat = XGB.predict(X_test)"
      ],
      "metadata": {
        "id": "iv5ejTVObB3L"
      },
      "execution_count": null,
      "outputs": []
    },
    {
      "cell_type": "code",
      "source": [
        "print('Accuracy score of the XGB model is {}'.format(accuracy_score(Y_test, XGB_yhat)))\n"
      ],
      "metadata": {
        "id": "azQaJKQZUkGV",
        "colab": {
          "base_uri": "https://localhost:8080/"
        },
        "outputId": "2b3e5fe5-5619-4681-d7bc-7cb86ac09a5d"
      },
      "execution_count": null,
      "outputs": [
        {
          "output_type": "stream",
          "name": "stdout",
          "text": [
            "Accuracy score of the XGB model is 0.9908256880733946\n"
          ]
        }
      ]
    }
  ]
}